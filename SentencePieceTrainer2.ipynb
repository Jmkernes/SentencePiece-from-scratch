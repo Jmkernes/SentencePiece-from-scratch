{
 "cells": [
  {
   "cell_type": "markdown",
   "metadata": {},
   "source": [
    "# Sentence Piece Tokenizer from scratch\n",
    "\n",
    "We re-build the sentence piece tokenizer in watered down python version, to illustrate how it works.\n",
    "\n",
    "Sine we aren't trying to reinvent the wheel, the layout is a bit clunky. SentencePiece relies on an auxiliary tokenizer to first find the possible tokens. For this, we use byte pair encoding. A bare-bones implemention is in the byte_pair_encoder.py module. We only fill out the class enough to \n",
    "\n",
    "a) determine the set of irreducible characters in the document \n",
    "\n",
    "b) discover the byte pairs and \n",
    "\n",
    "c) get their initial document counts\n",
    "\n",
    "We then feed the irreducible characters and tokens as well as the original text into SentencePiece, and train it. The clunkiness arises from sync'ing up text cleaning. We have to make sure to use the same symbol \"\\_\" everywhere for spaces, and be sure to remove newlines and any extra spaces."
   ]
  },
  {
   "cell_type": "code",
   "execution_count": 63,
   "metadata": {},
   "outputs": [
    {
     "name": "stdout",
     "output_type": "stream",
     "text": [
      "The autoreload extension is already loaded. To reload it, use:\n",
      "  %reload_ext autoreload\n"
     ]
    }
   ],
   "source": [
    "import re\n",
    "import numpy as np\n",
    "from byte_pair_encoder import BytePairEncoder\n",
    "from sentence_piece import SentencePieceTrainer\n",
    "\n",
    "%load_ext autoreload\n",
    "%autoreload 2"
   ]
  },
  {
   "cell_type": "markdown",
   "metadata": {},
   "source": [
    "### Load in the sample text file\n",
    "\n",
    "The text is a short story by Isaac Asimov, called \"good taste.\""
   ]
  },
  {
   "cell_type": "code",
   "execution_count": 64,
   "metadata": {},
   "outputs": [],
   "source": [
    "def load_text():\n",
    "    with open('good_taste.txt', 'r') as file:\n",
    "        text = file.read()\n",
    "        text = text.replace('\\n', ' ')\n",
    "        text = re.sub(' +', ' ', text)\n",
    "    return text"
   ]
  },
  {
   "cell_type": "markdown",
   "metadata": {},
   "source": [
    "### Create the tokens using the Bytepair encoder"
   ]
  },
  {
   "cell_type": "code",
   "execution_count": 65,
   "metadata": {},
   "outputs": [],
   "source": [
    "bpe = BytePairEncoder()\n",
    "spm = SentencePieceTrainer()"
   ]
  },
  {
   "cell_type": "code",
   "execution_count": 68,
   "metadata": {},
   "outputs": [
    {
     "name": "stdout",
     "output_type": "stream",
     "text": [
      "Fitting the byte pair encoder\n",
      "Finished.\n",
      "--- Round 1. Vocab size: 169 ---\n",
      "EM iter 0: Loss=-96804.04\n",
      "EM iter 1: Loss=-96575.67\n",
      "EM iter 2: Loss=-96553.68\n",
      "EM iter 3: Loss=-96553.54\n",
      "EM iter 4: Loss=-96553.54\n",
      "--- Round 2. Vocab size: 136 ---\n",
      "EM iter 0: Loss=-100128.96\n",
      "EM iter 1: Loss=-100124.61\n",
      "EM iter 2: Loss=-100123.01\n",
      "EM iter 3: Loss=-100123.01\n",
      "--- Round 3. Vocab size: 109 ---\n",
      "EM iter 0: Loss=-104923.25\n",
      "EM iter 1: Loss=-104923.22\n",
      "EM iter 2: Loss=-104923.22\n"
     ]
    }
   ],
   "source": [
    "text = load_text()\n",
    "\n",
    "num_merges = 100\n",
    "\n",
    "print(\"Fitting the byte pair encoder\")\n",
    "bpe.fit(text, num_merges)\n",
    "\n",
    "tokens = bpe.tokens\n",
    "tokens['_'] = tokens[' ']\n",
    "tokens.pop(' ')\n",
    "\n",
    "characters = bpe.characters\n",
    "characters.discard(' ')\n",
    "characters.add('_')\n",
    "print(\"Finished.\")\n",
    "\n",
    "spm.fit(text=text, tokens=tokens, characters=characters, vocab_size=100)"
   ]
  },
  {
   "cell_type": "markdown",
   "metadata": {},
   "source": [
    "## Show how we can get sample tokenizations\n",
    "\n",
    "The nbest_size parameter finds the nbest_size most probable tokenizations. It then samples from them uniformly to supply the tokenization.\n",
    "\n",
    "By setting nbest_size=1 (the default) we get a deterministic tokenization, given by the most probable sequence."
   ]
  },
  {
   "cell_type": "code",
   "execution_count": 69,
   "metadata": {},
   "outputs": [
    {
     "name": "stdout",
     "output_type": "stream",
     "text": [
      "Sample 1: ['h', 'e', 'l', 'l', 'o', '_', 'w', 'or', 'l', 'd']\n",
      "Sample 2: ['h', 'e', 'l', 'l', 'o', '_', 'w', 'o', 'r', 'l', 'd']\n",
      "Sample 3: ['h', 'e', 'l', 'l', 'o', '_', 'w', 'or', 'l', 'd']\n"
     ]
    }
   ],
   "source": [
    "nbest_size = 3\n",
    "string = 'hello world'\n",
    "for i in range(3):\n",
    "    x = spm.tokenize('hello world', nbest_size=nbest_size)\n",
    "    print(f\"Sample {i+1}: {x}\")"
   ]
  },
  {
   "cell_type": "markdown",
   "metadata": {},
   "source": [
    "No matter which tokenization we use, recovering the original string is really easy. We just join the array and replace the space token \"\\_\" with an actual space"
   ]
  },
  {
   "cell_type": "code",
   "execution_count": 71,
   "metadata": {},
   "outputs": [
    {
     "name": "stdout",
     "output_type": "stream",
     "text": [
      "Original string: hello world\n",
      "Reconstructed string: hello world\n"
     ]
    }
   ],
   "source": [
    "print(\"Original string:\", string)\n",
    "x = spm.tokenize('hello world', nbest_size=nbest_size)\n",
    "print(\"Reconstructed string:\", ''.join(x).replace('_', ' '))"
   ]
  },
  {
   "cell_type": "code",
   "execution_count": 148,
   "metadata": {},
   "outputs": [],
   "source": [
    "from scipy.special import digamma"
   ]
  },
  {
   "cell_type": "code",
   "execution_count": 163,
   "metadata": {},
   "outputs": [
    {
     "data": {
      "text/plain": [
       "[<matplotlib.lines.Line2D at 0x7fce2fb4cee0>]"
      ]
     },
     "execution_count": 163,
     "metadata": {},
     "output_type": "execute_result"
    },
    {
     "data": {
      "image/png": "[encoded data removed]",
      "text/plain": [
       "<Figure size 432x288 with 1 Axes>"
      ]
     },
     "metadata": {
      "needs_background": "light"
     },
     "output_type": "display_data"
    }
   ],
   "source": [
    "import matplotlib.pyplot as plt\n",
    "plt.plot(np.exp(digamma(1+np.linspace(0.01,1.,100))), 'k-')\n",
    "plt.plot(np.exp(digamma(0.1+np.linspace(0.01,1.,100))), 'b-')\n",
    "plt.plot(np.exp(digamma(0.0+np.linspace(0.01,1.,100))), 'r-')\n",
    "plt.plot(np.linspace(0.01,1.,100), 'k--')"
   ]
  }
 ],
 "metadata": {
  "kernelspec": {
   "display_name": "Python 3",
   "language": "python",
   "name": "python3"
  },
  "language_info": {
   "codemirror_mode": {
    "name": "ipython",
    "version": 3
   },
   "file_extension": ".py",
   "mimetype": "text/x-python",
   "name": "python",
   "nbconvert_exporter": "python",
   "pygments_lexer": "ipython3",
   "version": "3.8.3"
  }
 },
 "nbformat": 4,
 "nbformat_minor": 4
}
